{
 "cells": [
  {
   "cell_type": "code",
   "execution_count": 2,
   "id": "3013206d-fefa-4226-a387-a3bf96e22600",
   "metadata": {},
   "outputs": [
    {
     "name": "stdout",
     "output_type": "stream",
     "text": [
      "  Manufacturer                          Model  AccelSec  TopSpeed_KmH  \\\n",
      "0        Tesla  Model 3 Long Range Dual Motor       4.6           233   \n",
      "1   Volkswagen                      ID.3 Pure      10.0           160   \n",
      "2     Polestar                              2       4.7           210   \n",
      "3          BMW                            iX3       6.8           180   \n",
      "4        Honda                              e       9.5           145   \n",
      "5        Lucid                            Air       2.8           250   \n",
      "\n",
      "   Range_Km  Efficiency_WhKm  FastCharge_KmH RapidCharge PowerTrain  \\\n",
      "0       450              161             940         Yes        AWD   \n",
      "1       270              167             250         Yes        RWD   \n",
      "2       400              181             620         Yes        AWD   \n",
      "3       360              206             560         Yes        RWD   \n",
      "4       170              168             190         Yes        RWD   \n",
      "5       610              180             620         Yes        AWD   \n",
      "\n",
      "     PlugType  \n",
      "0  Type 2 CCS  \n",
      "1  Type 2 CCS  \n",
      "2  Type 2 CCS  \n",
      "3  Type 2 CCS  \n",
      "4  Type 2 CCS  \n",
      "5  Type 2 CCS  \n"
     ]
    }
   ],
   "source": [
    "import pandas as pd\n",
    "\n",
    "# Assuming your data is stored in a dictionary format\n",
    "data = {\n",
    "    'Manufacturer': ['Tesla', 'Volkswagen', 'Polestar', 'BMW', 'Honda', 'Lucid'],\n",
    "    'Model': ['Model 3 Long Range Dual Motor', 'ID.3 Pure', '2', 'iX3', 'e', 'Air'],\n",
    "    'AccelSec': [4.6, 10, 4.7, 6.8, 9.5, 2.8],\n",
    "    'TopSpeed_KmH': [233, 160, 210, 180, 145, 250],\n",
    "    'Range_Km': [450, 270, 400, 360, 170, 610],\n",
    "    'Efficiency_WhKm': [161, 167, 181, 206, 168, 180],\n",
    "    'FastCharge_KmH': [940, 250, 620, 560, 190, 620],\n",
    "    'RapidCharge': ['Yes', 'Yes', 'Yes', 'Yes', 'Yes', 'Yes'],\n",
    "    'PowerTrain': ['AWD', 'RWD', 'AWD', 'RWD', 'RWD', 'AWD'],\n",
    "    'PlugType': ['Type 2 CCS', 'Type 2 CCS', 'Type 2 CCS', 'Type 2 CCS', 'Type 2 CCS', 'Type 2 CCS']\n",
    "}\n",
    "\n",
    "# Convert the dictionary to a pandas DataFrame\n",
    "df = pd.DataFrame(data)\n",
    "\n",
    "# Display the DataFrame\n",
    "print(df)\n",
    "\n"
   ]
  },
  {
   "cell_type": "code",
   "execution_count": null,
   "id": "d06f5f9a-f75c-4705-b7fb-c20004f4c913",
   "metadata": {},
   "outputs": [],
   "source": []
  }
 ],
 "metadata": {
  "kernelspec": {
   "display_name": "Python 3 (ipykernel)",
   "language": "python",
   "name": "python3"
  },
  "language_info": {
   "codemirror_mode": {
    "name": "ipython",
    "version": 3
   },
   "file_extension": ".py",
   "mimetype": "text/x-python",
   "name": "python",
   "nbconvert_exporter": "python",
   "pygments_lexer": "ipython3",
   "version": "3.11.7"
  }
 },
 "nbformat": 4,
 "nbformat_minor": 5
}
